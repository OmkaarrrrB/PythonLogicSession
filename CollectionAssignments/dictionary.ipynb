{
 "cells": [
  {
   "cell_type": "code",
   "execution_count": null,
   "id": "5ccd7321",
   "metadata": {},
   "outputs": [],
   "source": [
    "# 1) accept 5 students name and store them in the dictionary by providing keys from 1 to 5 respectively.\n",
    "\n"
   ]
  },
  {
   "cell_type": "code",
   "execution_count": null,
   "id": "2039752a",
   "metadata": {},
   "outputs": [],
   "source": [
    "\n",
    "\n",
    "2) create a dictionary with pairs\n",
    "\tsoap:100\n",
    "\tdeo:300\n",
    "\tperfume:400\n",
    "\n",
    "now accept a product name from user (in any case, so you have to handle \"ignore case\") and display its price. Also , if the product is not present in the dictionary display the error message \" product not available \"\n",
    "\tNote:  you should not get \"KeyError:\" in the program.\n",
    "\n",
    "\n",
    "\n",
    "\n",
    "\n",
    "3) define a class \"Student\" with members\n",
    "\tname,age,address and qualification\n",
    "\t\n",
    "   define parameterized constructor and \"str\" member function which returns all the members\n",
    "\n",
    "   create 4 objects of Student by passing values.\n",
    "\n",
    "now create a dictionary with rollno ( start from 1 ) as a key and student object as a value.\n",
    "\n",
    "accept a rollno from user and display all its details i.e. name,age,address and qualification.\n",
    "also display message \"student not found\" in case if rollno entered by user is not available as a key inside the dictionary.\n",
    "\n",
    "4)  Given a dictionary of students and their favourite colours: \n",
    "people={'Arham':'Blue','Lisa':'Yellow',''Vinod:'Purple','Jenny':'Pink'} \n",
    "1. Find out how many students are in the list \n",
    "2. Change Lisa’s favourite colour \n",
    "3. Remove 'Jenny' and her favourite color\n",
    "4. Sort and print students and their favourite colours alphabetically by name\n",
    "\n",
    "\n"
   ]
  },
  {
   "cell_type": "code",
   "execution_count": null,
   "id": "bd7a7ebb",
   "metadata": {},
   "outputs": [],
   "source": []
  }
 ],
 "metadata": {
  "kernelspec": {
   "display_name": "Python 3 (ipykernel)",
   "language": "python",
   "name": "python3"
  },
  "language_info": {
   "codemirror_mode": {
    "name": "ipython",
    "version": 3
   },
   "file_extension": ".py",
   "mimetype": "text/x-python",
   "name": "python",
   "nbconvert_exporter": "python",
   "pygments_lexer": "ipython3",
   "version": "3.9.12"
  }
 },
 "nbformat": 4,
 "nbformat_minor": 5
}

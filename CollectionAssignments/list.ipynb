{
 "cells": [
  {
   "cell_type": "code",
   "execution_count": 8,
   "id": "7b06aed7",
   "metadata": {},
   "outputs": [
    {
     "name": "stdout",
     "output_type": "stream",
     "text": [
      "enter num 9\n",
      "Enter name omkar\n",
      "enter flost value8.5\n",
      "[9, 'omkar', 8.5]\n"
     ]
    }
   ],
   "source": [
    "# 1) create a list , accept a number,name and a float value from user and store it inside the list.\n",
    "# now accept one more name from user and insert it at 2nd position.\n",
    "# accept a number and append it at the end of the list.\n",
    "# print the entire list.\n",
    "\n",
    "\n",
    "num=int(input(\"enter num \"))\n",
    "name=input(\"Enter name \")\n",
    "flt=float(input(\"enter float value\"))\n",
    "list1=[num,name,flt]\n",
    "print(list1)"
   ]
  },
  {
   "cell_type": "code",
   "execution_count": 9,
   "id": "0e192068",
   "metadata": {},
   "outputs": [
    {
     "name": "stdout",
     "output_type": "stream",
     "text": [
      "enter nameburte\n",
      "enter num2 56\n"
     ]
    },
    {
     "data": {
      "text/plain": [
       "[9, 'burte', 'omkar', 8.5, 56]"
      ]
     },
     "execution_count": 9,
     "metadata": {},
     "output_type": "execute_result"
    }
   ],
   "source": [
    "name1=input(\"enter name\")\n",
    "list1.insert(1,name1)\n",
    "num2=int(input(\"enter num2 \"))\n",
    "list1.append(num2)\n",
    "list1"
   ]
  },
  {
   "cell_type": "code",
   "execution_count": 19,
   "id": "32a2646d",
   "metadata": {},
   "outputs": [
    {
     "name": "stdout",
     "output_type": "stream",
     "text": [
      "enter num 1\n",
      "enter num 2\n",
      "enter num 3\n",
      "enter num 4\n",
      "enter num 5\n",
      "enter num 6\n",
      "enter num 0\n",
      "Final list  [1, 2, 3, 4, 5, 6]\n",
      "length of list:- 6\n"
     ]
    }
   ],
   "source": [
    "# 2) first create list empty. accept numbers till user enters 0 and store them inside the list. Print the list and its length.\n",
    "list1=[]\n",
    "\n",
    "while True:\n",
    "    num=int(input(\"enter num \"))\n",
    "    if num==0:\n",
    "        break\n",
    "    list1.append(num)\n",
    "print(\"Final list \",list1)\n",
    "print(\"Length of list:-\",len(list1))"
   ]
  },
  {
   "cell_type": "code",
   "execution_count": 6,
   "id": "0aa5d324",
   "metadata": {},
   "outputs": [
    {
     "name": "stdout",
     "output_type": "stream",
     "text": [
      "enter num at pos 1 1\n",
      "enter num at pos 2 2\n",
      "enter num at pos 3 3\n",
      "enter num at pos 4 4\n",
      "enter num at pos 5 5\n",
      "[1, 2, 3, 4, 5]\n",
      "[1, 2, 3, 4, 5, 6, 7, 8]\n"
     ]
    }
   ],
   "source": [
    "# 3) accept 5 numbers, store them inside the list and display it. Now add 3 more numbers [hardcoded] at the end of \n",
    "# the list using \"extend\" method.\n",
    "list1=[int(input(f\"enter num at pos {x} \")) for x in range(1,6)]\n",
    "print(list1)\n",
    "list1.extend([6,7,8])\n",
    "print(list1)"
   ]
  },
  {
   "cell_type": "code",
   "execution_count": 8,
   "id": "abe682b6",
   "metadata": {},
   "outputs": [
    {
     "name": "stdout",
     "output_type": "stream",
     "text": [
      "enter a number 1\n",
      "Enter a string omkar\n",
      "Enter a decimal value 4.5\n",
      "Enter a Boolean valueTrue\n",
      "Enter a charactero\n",
      "List from beginning:- [1, 'omkar', 4.5, True, 'o']\n",
      "List from the end:- ['o', True, 4.5, 'omkar', 1]\n"
     ]
    }
   ],
   "source": [
    "# 4) accept a number,string,decimal,boolean value and a character from the user and store it inside the list.\n",
    "# First print the list from the beginning and then from the end.\n",
    "\n",
    "list1=[int(input(\"enter a number \")),input(\"Enter a string \"),float(input(\"Enter a decimal value \")),bool(input(\"Enter a Boolean value\")),input(\"Enter a character\")]\n",
    "print(\"List from beginning:-\",list1)\n",
    "print(\"List from the end:-\",list1[::-1])"
   ]
  },
  {
   "cell_type": "code",
   "execution_count": 20,
   "id": "27dc3a2d",
   "metadata": {},
   "outputs": [
    {
     "name": "stdout",
     "output_type": "stream",
     "text": [
      "Enter 5 numbers separated by spaces1 2 3 4 5\n",
      "enter a position you would like to remove from the list3\n"
     ]
    },
    {
     "data": {
      "text/plain": [
       "[1, 2, 4, 5]"
      ]
     },
     "execution_count": 20,
     "metadata": {},
     "output_type": "execute_result"
    }
   ],
   "source": [
    "# 5) accept 5 numbers, store them inside the list. \n",
    "# now accept a number from user which he would like to remove from the list and  after removing it, display the list.\n",
    "\n",
    "list1=list(map(int,input(\"Enter 5 numbers separated by spaces\").split()))\n",
    "list1\n",
    "num=int(input(\"enter a number you would like to remove from the list\"))\n",
    "if num in list1:\n",
    "    list1.remove(num)\n",
    "else:\n",
    "    print(\"Entered number not in the list\")\n",
    "    \n",
    "list1"
   ]
  },
  {
   "cell_type": "code",
   "execution_count": 22,
   "id": "038f9e1b",
   "metadata": {},
   "outputs": [
    {
     "name": "stdout",
     "output_type": "stream",
     "text": [
      "enter 5 number separated by spaces1 2 3 4 5\n",
      "Enter a pos you want to remove from list1\n"
     ]
    },
    {
     "data": {
      "text/plain": [
       "[2, 3, 4, 5]"
      ]
     },
     "execution_count": 22,
     "metadata": {},
     "output_type": "execute_result"
    }
   ],
   "source": [
    "# 6) accept 5 numbers, store them inside the list. now accept a position from user ,\n",
    "# remove the element from that position and  after removing it, display the list.\n",
    "list1=list(map(int,input(\"enter 5 number separated by spaces \").split()))\n",
    "pos=int(input(\"Enter a pos you want to remove from list \"))\n",
    "list1.pop(pos-1)\n",
    "list1"
   ]
  },
  {
   "cell_type": "code",
   "execution_count": 29,
   "id": "4fdeee58",
   "metadata": {},
   "outputs": [
    {
     "name": "stdout",
     "output_type": "stream",
     "text": [
      "display it in reverse order  [9.0, True, 'o', 9, 'omkar']\n",
      "list all the elements from 2nd position  [9, 'o', True, 9.0]\n",
      "the elements from 1st to 3rd position  ['omkar', 9, 'o']\n",
      "slice it from 1st to 3rd elements from the end  ['o', True, 9.0]\n"
     ]
    }
   ],
   "source": [
    "# 7) create a list and store string,number,character,boolean,decimal values respectively inside it.\n",
    "# Now slice it in following ways:\n",
    "# a) display it in reverse order\n",
    "# b) list all the elements from 2nd position\n",
    "# c) list the elements from 1st to 3rd position\n",
    "# d) slice it from 1st to 3rd elements from the end.\n",
    "list1=[\"omkar\",9,\"o\",True,9.0]\n",
    "print(\"display it in reverse order \",list1[::-1])\n",
    "print(\"list all the elements from 2nd position \",list1[1:])\n",
    "print(\"the elements from 1st to 3rd position \",list1[:3])\n",
    "print(\"slice it from 1st to 3rd elements from the end \",list1[-3:])"
   ]
  },
  {
   "cell_type": "code",
   "execution_count": 35,
   "id": "1a0f308d",
   "metadata": {},
   "outputs": [
    {
     "name": "stdout",
     "output_type": "stream",
     "text": [
      "OG list [1, 2, 3, 4, 5, 6, 7, 8, 9, 10, 11, 12, 13, 14, 15, 16, 17, 18, 19, 20]\n",
      "New list with only Odd numbers [1, 3, 5, 7, 9, 11, 13, 15, 17, 19]\n"
     ]
    }
   ],
   "source": [
    "# 8) Note: use List comprehension\n",
    "#  create a list with the numbers from 1 to 20\n",
    "#  create one more list which should contain only odd numbers from the first list.\n",
    "list1=[x for x in range(1,21)]\n",
    "print(\"OG list\",list1)\n",
    "list2=[x for x in list1 if x%2 != 0]\n",
    "print(\"New list with only Odd numbers\",list2)"
   ]
  },
  {
   "cell_type": "code",
   "execution_count": null,
   "id": "9918834e",
   "metadata": {},
   "outputs": [],
   "source": [
    "# 9) accept 5 names and store them in list. Now sort the list in ascending order display and then in descending order.\n",
    "list1=[input(\"Enter 5 names \") for x in range(5)]\n",
    "print(\"Asc sorted=\",sorted(list1))\n",
    "print(\"Desc sorted=\",sorted(list1,reverse=True))"
   ]
  },
  {
   "cell_type": "code",
   "execution_count": 19,
   "id": "16e7cada",
   "metadata": {},
   "outputs": [
    {
     "name": "stdout",
     "output_type": "stream",
     "text": [
      "\n",
      "OLD LIST\n",
      "\n",
      "model:BMW isauto:True\n",
      "model:Maruti isauto:False\n",
      "model:Ford isauto:True\n",
      "model:Toyota isauto:True\n",
      "model:Honda isauto:False\n",
      "model:Benz isauto:True\n",
      "\n",
      "NEW LIST\n",
      "\n",
      "model:BMW isauto:True\n",
      "model:Ford isauto:True\n",
      "model:Toyota isauto:True\n",
      "model:Benz isauto:True\n"
     ]
    }
   ],
   "source": [
    "# 10) create a class \"Car\" with two instance members i.e. \"model(string)\" and \"isautomatic(boolean)\"\n",
    "# have getter methods also.\n",
    "# create 5 to 6 objects by passing model name and True or False for \"isautomatic\".\n",
    "\n",
    "# create a list and store all the objects inside it.\n",
    "\n",
    "# now create one more list and in that list store all the objects from first list where \"isautomatic\" is True.\n",
    "# Print both the lists.\n",
    "\n",
    "class Car():\n",
    "    def __init__(self,model,isautomatic):\n",
    "        self.model=model\n",
    "        self.isautomatic=isautomatic\n",
    "    def getmodel(self):\n",
    "        return self.model\n",
    "    def getisautomatic(self):\n",
    "        return self.isautomatic\n",
    "    def __str__(self):\n",
    "        return f\"model:{self.model} isauto:{self.isautomatic}\"\n",
    "c1=Car(\"BMW\",True)\n",
    "c2=Car(\"Maruti\",False)\n",
    "c3=Car(\"Ford\",True)\n",
    "c4=Car(\"Toyota\",True)\n",
    "c5=Car(\"Honda\",False)\n",
    "c6=Car(\"Benz\",True)\n",
    "ls=[c1,c2,c3,c4,c5,c6]\n",
    "print(\"\\nOLD LIST\\n\")\n",
    "for i in ls:\n",
    "    print(i)\n",
    "ls1=[x for x in ls if x.getisautomatic()]\n",
    "print(\"\\nNEW LIST\\n\")\n",
    "for i in ls1:\n",
    "    print(i)"
   ]
  },
  {
   "cell_type": "code",
   "execution_count": 33,
   "id": "cd0347ec",
   "metadata": {},
   "outputs": [
    {
     "name": "stdout",
     "output_type": "stream",
     "text": [
      "ENTER NO 4\n",
      "[5, 6, 7, 8, 9, 10]\n"
     ]
    }
   ],
   "source": [
    "# 1)Write a Python program to find all the values in a list are greater than a specified number.\n",
    "def grt_than(l,n):\n",
    "    return [x for x in l if x>n]\n",
    "ls=[1,2,3,4,5,6,7,8,9,10]\n",
    "n=int(input(\"ENTER NO \"))\n",
    "print(grt_than(ls,n))"
   ]
  },
  {
   "cell_type": "code",
   "execution_count": 39,
   "id": "b3ac8209",
   "metadata": {},
   "outputs": [
    {
     "name": "stdout",
     "output_type": "stream",
     "text": [
      "ENTER NO 5\n",
      "['Fergusen', 'Sachin']\n"
     ]
    }
   ],
   "source": [
    "# 2) Write a Python program to find the list of words that are longer than n from a given list of words.\n",
    "def longer(ls,n):\n",
    "    return [x for x in ls if len(x)>n]\n",
    "\n",
    "l=[\"omkar\",\"Sonu\",\"Fergusen\",\"Sachin\"]\n",
    "n=int(input(\"ENTER NO \"))\n",
    "print(longer(l,n))"
   ]
  },
  {
   "cell_type": "code",
   "execution_count": 55,
   "id": "51e42edc",
   "metadata": {},
   "outputs": [
    {
     "name": "stdout",
     "output_type": "stream",
     "text": [
      "10\n"
     ]
    }
   ],
   "source": [
    "# 3) Write a Python program to get the largest number from a list.\n",
    "\n",
    "def largest(ls):\n",
    "    ln=0\n",
    "    for i in ls:\n",
    "        if i > ln:\n",
    "            ln = i\n",
    "    return ln        \n",
    "    #     return [x for x in ls if all(x>=y for y in ls)][0]\n",
    "lis=[1,2,3,4,5,6,7,9,10,8]\n",
    "print(largest(lis))"
   ]
  },
  {
   "cell_type": "code",
   "execution_count": 65,
   "id": "24615b31",
   "metadata": {},
   "outputs": [
    {
     "name": "stdout",
     "output_type": "stream",
     "text": [
      "['aba', '1221', 'hh']\n"
     ]
    }
   ],
   "source": [
    "# 4) Write a Python program to count the number of strings where the string length is 2 or more and the first and last character\n",
    "# are same from a given list of strings. \n",
    "# Sample List : ['abc', 'xyz', 'aba', '1221'] \"\"\"\n",
    "\n",
    "# output\n",
    "# \taba      1221\n",
    "def myfun(l):\n",
    "#     lst=[]\n",
    "#     for i in l:\n",
    "#         if len(i)>=2:\n",
    "#             if i[0]==i[-1]:\n",
    "#                 lst.append(i)\n",
    "#     return lst\n",
    "    return [x for x in l if len(x)>=2 and x[0]==x[-1]]\n",
    "ls=['abc', 'xyz', 'aba', '1221','hh']\n",
    "print(myfun(ls))\n"
   ]
  },
  {
   "cell_type": "code",
   "execution_count": 80,
   "id": "21658e50",
   "metadata": {},
   "outputs": [
    {
     "name": "stdout",
     "output_type": "stream",
     "text": [
      "479001600\n"
     ]
    }
   ],
   "source": [
    "# 5) Write a Python program to multiply all the items in a list.\n",
    "from functools import reduce\n",
    "def fun(lst):\n",
    "#     su=1\n",
    "#     for i in lst:\n",
    "#         su*=i\n",
    "#     return su\n",
    "      return reduce(lambda x,y:x*y,lst)\n",
    "print(fun([1,2,3,4,5,6,7,8,9,10,11,12]))"
   ]
  },
  {
   "cell_type": "code",
   "execution_count": 81,
   "id": "8c72c27a",
   "metadata": {},
   "outputs": [
    {
     "name": "stdout",
     "output_type": "stream",
     "text": [
      "['Green', 'White', 'Black']\n"
     ]
    }
   ],
   "source": [
    "# 6) Write a Python program to print a specified list after removing the 0th, 4th and 5th elements. \n",
    "# Sample List : ['Red', 'Green', 'White', 'Black', 'Pink', 'Yellow']\n",
    "# Expected Output : ['Green', 'White', 'Black'] \"\"\"\n",
    "ls=['Red', 'Green', 'White', 'Black', 'Pink', 'Yellow']\n",
    "def fun(l):\n",
    "    return [l[i] for i in range(len(ls)) if i not in (0,4,5)]\n",
    "print(fun(ls))"
   ]
  },
  {
   "cell_type": "code",
   "execution_count": 82,
   "id": "dc684114",
   "metadata": {},
   "outputs": [
    {
     "name": "stdout",
     "output_type": "stream",
     "text": [
      "[1, 3, 5]\n"
     ]
    }
   ],
   "source": [
    "# 7) Write a Python program to print the numbers of a specified list after removing even numbers from it.\n",
    "def fun(l):\n",
    "    return [x for x in l if x%2!=0]\n",
    "print(fun([1,2,3,4,5,6]))"
   ]
  },
  {
   "cell_type": "code",
   "execution_count": 93,
   "id": "e3e8bdf4",
   "metadata": {},
   "outputs": [
    {
     "name": "stdout",
     "output_type": "stream",
     "text": [
      "0 1\n",
      "1 2\n",
      "2 3\n",
      "3 4\n",
      "4 5\n"
     ]
    }
   ],
   "source": [
    "# 8) Write a Python program access the index of a list.\n",
    "# \toutput : all the elements along with their index\n",
    "def index(ls):\n",
    "    for index,elem in enumerate(ls):  #ENUM can be used with any iterable set(unorderd),list,str,tup,dict\n",
    "        print(index,elem)\n",
    "ls=[1,2,3,4,5]\n",
    "index(ls)"
   ]
  },
  {
   "cell_type": "code",
   "execution_count": 111,
   "id": "a4034585",
   "metadata": {},
   "outputs": [
    {
     "name": "stdout",
     "output_type": "stream",
     "text": [
      "List is empty\n"
     ]
    }
   ],
   "source": [
    "# 9) Write a Python program to check a list is empty or not\n",
    "def isemp(ls):\n",
    "    return \"List is empty\" if not ls else \"List is empty\"\n",
    "ls=[1,2,3,4,5]\n",
    "print(isemp(ls))"
   ]
  },
  {
   "cell_type": "code",
   "execution_count": 134,
   "id": "86e11eed",
   "metadata": {},
   "outputs": [
    {
     "name": "stdout",
     "output_type": "stream",
     "text": [
      "ENTER INDEX : 1\n",
      "ELEMENT EXISTS :- 2\n"
     ]
    }
   ],
   "source": [
    "# 10) Write a Python program to check whether the n-th element exists in a given list.\n",
    "def exists(lst):\n",
    "    n=int(input(\"ENTER INDEX : \"))\n",
    "    if 0<=n<len(lst):\n",
    "        print(\"ELEMENT EXISTS :-\",lst[n])\n",
    "    else:\n",
    "        print(\"NOT EXISTS\")\n",
    "ls=[1,2,3,4,5]\n",
    "exists(ls)"
   ]
  },
  {
   "cell_type": "code",
   "execution_count": 140,
   "id": "2c02d0f2",
   "metadata": {},
   "outputs": [
    {
     "data": {
      "text/plain": [
       "[1, 2, 3, 4, 5]"
      ]
     },
     "execution_count": 140,
     "metadata": {},
     "output_type": "execute_result"
    }
   ],
   "source": [
    "# 11) Write a Python program to clone or copy a list\n",
    "def copy(lst):\n",
    "#     return list(lst)\n",
    "#     return lst.copy() \n",
    "    return lst[:]\n",
    "copy(ls)"
   ]
  },
  {
   "cell_type": "code",
   "execution_count": 147,
   "id": "7cc7f217",
   "metadata": {},
   "outputs": [
    {
     "data": {
      "text/plain": [
       "[{'color_name': 'Black', 'color_code': '#000000'},\n",
       " {'color_name': 'Red', 'color_code': '#FF0000'},\n",
       " {'color_name': 'Maroon', 'color_code': '#800000'},\n",
       " {'color_name': 'Yellow', 'color_code': '#FFFF00'}]"
      ]
     },
     "execution_count": 147,
     "metadata": {},
     "output_type": "execute_result"
    }
   ],
   "source": [
    "# 12) Write a Python program to convert list to list of dictionaries. \n",
    "# Sample lists: [\"Black\", \"Red\", \"Maroon\", \"Yellow\"], [\"#000000\", \"#FF0000\", \"#800000\", \"#FFFF00\"]\n",
    "# Expected Output: [{'color_name': 'Black', 'color_code': '#000000'}, {'color_name': 'Red', 'color_code': '#FF0000'}, \n",
    "# {'color_name': 'Maroon', 'color_code': '#800000'}, {'color_name': 'Yellow', 'color_code': '#FFFF[\"Black\", \"Red\", \"Maroon\", \"Yellow\"]      [\"#000000\", \"#FF0000\", \"#800000\", \"#FFFF00\"]00'}]\"\"\"\n",
    "\n",
    "def todict(lst1,lst2):\n",
    "    return [{\"color_name\":name,\"color_code\":code} for name,code in zip(lst1,lst2)]\n",
    "ls1=[\"Black\", \"Red\", \"Maroon\", \"Yellow\"]\n",
    "ls2=[\"#000000\", \"#FF0000\", \"#800000\", \"#FFFF00\"]\n",
    "todict(ls1,ls2)\n"
   ]
  },
  {
   "cell_type": "code",
   "execution_count": 172,
   "id": "19177726",
   "metadata": {},
   "outputs": [
    {
     "name": "stdout",
     "output_type": "stream",
     "text": [
      "Item 6 found at index : 5\n"
     ]
    }
   ],
   "source": [
    "# 13) Write a Python program to find the index of an item in a specified list.\n",
    "\n",
    "def isindex(lst,item):\n",
    "    try:\n",
    "        return f\"Item {item} found at index : {lst.index(item)}\"\n",
    "    except ValueError:\n",
    "        return f\"Index not found\"\n",
    "ls=['o',1,2,3,4,6]\n",
    "ind=6\n",
    "print(isindex(ls,ind))"
   ]
  },
  {
   "cell_type": "code",
   "execution_count": 184,
   "id": "2d621f49",
   "metadata": {},
   "outputs": [
    {
     "name": "stdout",
     "output_type": "stream",
     "text": [
      "['emp1', 'emp2', 'emp3', 'emp4']\n"
     ]
    }
   ],
   "source": [
    "# 14) Write a Python program to insert a given string at the beginning of all items in a list. \n",
    "# Sample list : [1,2,3,4], string : emp\n",
    "# Expected output : ['emp1', 'emp2', 'emp3', 'emp4']\n",
    "\n",
    "def begin(lst,prefix):\n",
    "    return [f\"{prefix}{i}\" for i in lst]\n",
    "\n",
    "sample =[1,2,3,4]\n",
    "str1='emp'\n",
    "print(begin(sample,str1))"
   ]
  },
  {
   "cell_type": "code",
   "execution_count": 189,
   "id": "2df6def0",
   "metadata": {},
   "outputs": [
    {
     "name": "stdout",
     "output_type": "stream",
     "text": [
      "[(1, 10), (2, 20), (3, 30), (4, 40), (5, 50)]\n"
     ]
    }
   ],
   "source": [
    "# 15) Write a Python program to iterate over two lists simultaneously. \n",
    "def iterate(ls1,ls2):\n",
    "    return [(x,y) for x,y in zip(ls1,ls2)]\n",
    "l1=[1,2,3,4,5]\n",
    "l2=[10,20,30,40,50]\n",
    "print(iterate(l1,l2))"
   ]
  },
  {
   "cell_type": "code",
   "execution_count": 201,
   "id": "524edffb",
   "metadata": {},
   "outputs": [
    {
     "name": "stdout",
     "output_type": "stream",
     "text": [
      "[1, 2]\n",
      "[3, 4]\n",
      "[5, 6]\n",
      "[7, 8]\n",
      "[9, 10]\n"
     ]
    }
   ],
   "source": [
    "# 16) Write a Python program to print a nested lists (each list on a new line) using the print() function.\n",
    "\n",
    "def func(ls):\n",
    "    for sublist in ls:\n",
    "        print(sublist)\n",
    "\n",
    "nls=[[1,2],[3,4],[5,6],[7,8],[9,10]]\n",
    "func(nls)"
   ]
  },
  {
   "cell_type": "code",
   "execution_count": 212,
   "id": "ef719491",
   "metadata": {},
   "outputs": [
    {
     "name": "stdout",
     "output_type": "stream",
     "text": [
      "[1, 2, 3, 4, 5, 6]\n"
     ]
    }
   ],
   "source": [
    "# 17) Write a Python program to remove duplicates from a list.\n",
    "\n",
    "def dupli(ls):\n",
    "    ls1=[]\n",
    "    [ls1.append(i) for i in ls if i not in ls1]\n",
    "    return ls1\n",
    "l=[1,2,3,2,4,5,6]\n",
    "print(dupli(l))"
   ]
  },
  {
   "cell_type": "code",
   "execution_count": 223,
   "id": "fa62390e",
   "metadata": {},
   "outputs": [
    {
     "name": "stdout",
     "output_type": "stream",
     "text": [
      "[1, 3, 5, 7, 9, 10, 2, 4, 6, 8]\n"
     ]
    }
   ],
   "source": [
    "# 18) Write a Python program to replace the last element in a list with another list. \n",
    "# Sample data : [1, 3, 5, 7, 9, 10], [2, 4, 6, 8]\n",
    "# Expected Output: [1, 3, 5, 7, 9, 2, 4, 6, 8]\n",
    "\n",
    "def func(li1,li2):\n",
    "    return li1[:-1]+li2\n",
    "    \n",
    "\n",
    "l1=[1, 3, 5, 7, 9, 10]\n",
    "l2=[2, 4, 6, 8]\n",
    "print(func(l1,l2))"
   ]
  },
  {
   "cell_type": "code",
   "execution_count": 226,
   "id": "fc179707",
   "metadata": {},
   "outputs": [
    {
     "name": "stdout",
     "output_type": "stream",
     "text": [
      "False\n"
     ]
    }
   ],
   "source": [
    "# 19) Write a Python function that takes two lists and returns True if they have at least one common member.\n",
    "\n",
    "def true(ls1,ls2):\n",
    "    return any([x in ls2 for x in ls1])\n",
    "\n",
    "l1=[1,3, 5, 7, 9, 10]\n",
    "l2=[2, 4, 6, 8]\n",
    "print(true(l1,l2))"
   ]
  },
  {
   "cell_type": "code",
   "execution_count": null,
   "id": "f31ac1d9",
   "metadata": {},
   "outputs": [],
   "source": []
  }
 ],
 "metadata": {
  "kernelspec": {
   "display_name": "Python 3 (ipykernel)",
   "language": "python",
   "name": "python3"
  },
  "language_info": {
   "codemirror_mode": {
    "name": "ipython",
    "version": 3
   },
   "file_extension": ".py",
   "mimetype": "text/x-python",
   "name": "python",
   "nbconvert_exporter": "python",
   "pygments_lexer": "ipython3",
   "version": "3.9.12"
  }
 },
 "nbformat": 4,
 "nbformat_minor": 5
}

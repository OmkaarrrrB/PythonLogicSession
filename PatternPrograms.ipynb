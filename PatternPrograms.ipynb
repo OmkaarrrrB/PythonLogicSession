{
 "cells": [
  {
   "cell_type": "markdown",
   "id": "fb9658bc",
   "metadata": {},
   "source": [
    "1. Basic Star Patterns"
   ]
  },
  {
   "cell_type": "code",
   "execution_count": 2,
   "id": "1142aaa0",
   "metadata": {},
   "outputs": [
    {
     "name": "stdout",
     "output_type": "stream",
     "text": [
      "\n",
      "*\n",
      "**\n",
      "***\n",
      "****\n",
      "*****\n"
     ]
    }
   ],
   "source": [
    "# 1.1 Right-Angled Triangle Pattern\n",
    "\n",
    "# *\n",
    "# **\n",
    "# ***\n",
    "# ****\n",
    "# *****\n",
    "\n",
    "num = 5\n",
    "for i in range(num+1):\n",
    "    print(\"*\"*i)"
   ]
  },
  {
   "cell_type": "code",
   "execution_count": 3,
   "id": "0b307099",
   "metadata": {},
   "outputs": [
    {
     "name": "stdout",
     "output_type": "stream",
     "text": [
      "*****\n",
      "****\n",
      "***\n",
      "**\n",
      "*\n"
     ]
    }
   ],
   "source": [
    "# 1.2 Inverted Right-Angled Triangle\n",
    "# *****\n",
    "# ****\n",
    "# ***\n",
    "# **\n",
    "# *\n",
    "num = 5\n",
    "for i in range(num,0,-1):\n",
    "    print(\"*\"*i)"
   ]
  },
  {
   "cell_type": "code",
   "execution_count": 4,
   "id": "44fd4be8",
   "metadata": {},
   "outputs": [
    {
     "name": "stdout",
     "output_type": "stream",
     "text": [
      "     *\n",
      "    ***\n",
      "   *****\n",
      "  *******\n",
      " *********\n"
     ]
    }
   ],
   "source": [
    "# 1.3 Pyramid Pattern\n",
    "#     *\n",
    "#    ***\n",
    "#   *****\n",
    "#  *******\n",
    "# *********\n",
    "num = 5\n",
    "for i in range(1,num+1):\n",
    "    print(\" \"*(num-i),\"*\"*(2*i-1))"
   ]
  },
  {
   "cell_type": "code",
   "execution_count": 5,
   "id": "0d6b4c7b",
   "metadata": {},
   "outputs": [
    {
     "name": "stdout",
     "output_type": "stream",
     "text": [
      " *********\n",
      "  *******\n",
      "   *****\n",
      "    ***\n",
      "     *\n"
     ]
    }
   ],
   "source": [
    "# 1.4 Inverted Pyramid\n",
    "#  *********\n",
    "#   *******\n",
    "#    *****\n",
    "#     ***\n",
    "#      *\n",
    "\n",
    "num=5\n",
    "for i in range(num,0,-1):\n",
    "    print(\" \"*(num-i),\"*\"*(2*i-1))"
   ]
  },
  {
   "cell_type": "code",
   "execution_count": 6,
   "id": "4a4eceeb",
   "metadata": {},
   "outputs": [
    {
     "name": "stdout",
     "output_type": "stream",
     "text": [
      "     * \n",
      "    * * \n",
      "   * * * \n",
      "  * * * * \n",
      " * * * * * \n"
     ]
    }
   ],
   "source": [
    "# 1.5 Pyramid\n",
    "#      * \n",
    "#     * * \n",
    "#    * * * \n",
    "#   * * * * \n",
    "#  * * * * * \n",
    "\n",
    "num=5\n",
    "for i in range(1,num+1):\n",
    "    print(\" \"*(num-i),\"* \"*i)"
   ]
  },
  {
   "cell_type": "code",
   "execution_count": 7,
   "id": "0def1c21",
   "metadata": {},
   "outputs": [
    {
     "name": "stdout",
     "output_type": "stream",
     "text": [
      " * * * * * \n",
      "  * * * * \n",
      "   * * * \n",
      "    * * \n",
      "     * \n"
     ]
    }
   ],
   "source": [
    "# 1.6 Inverted Pyramid\n",
    "#  * * * * * \n",
    "#   * * * * \n",
    "#    * * * \n",
    "#     * * \n",
    "#      * \n",
    "num=5\n",
    "for i in range(num,0,-1):\n",
    "    print(\" \"*(num-i),\"* \"*i)"
   ]
  },
  {
   "cell_type": "markdown",
   "id": "68e5ff4c",
   "metadata": {},
   "source": [
    "2. More Star Patterns\n"
   ]
  },
  {
   "cell_type": "code",
   "execution_count": 8,
   "id": "6594b996",
   "metadata": {},
   "outputs": [
    {
     "name": "stdout",
     "output_type": "stream",
     "text": [
      "* * * * * \n",
      "*       *\n",
      "*       *\n",
      "*       *\n",
      "* * * * * \n"
     ]
    }
   ],
   "source": [
    "# 2.1 Hollow Square Pattern\n",
    "# * * * * * \n",
    "# *       *\n",
    "# *       *\n",
    "# *       *\n",
    "# * * * * * \n",
    "n=5\n",
    "for i in range(n):\n",
    "    if i==0 or i ==n-1:\n",
    "        print(\"* \"*n)\n",
    "    else:\n",
    "        print(\"* \"+\"  \"*(n-2)+\"*\")"
   ]
  },
  {
   "cell_type": "code",
   "execution_count": 9,
   "id": "eb153750",
   "metadata": {},
   "outputs": [
    {
     "name": "stdout",
     "output_type": "stream",
     "text": [
      "*\n",
      "**\n",
      "* *\n",
      "*  *\n",
      "*****\n"
     ]
    }
   ],
   "source": [
    "# 2.2 Hollow Right-Angled Triangle\n",
    "# *\n",
    "# **\n",
    "# * *\n",
    "# *  *\n",
    "# *****\n",
    "n=5\n",
    "for i in range(1,n+1):\n",
    "    if i ==1 or i==n:\n",
    "        print(\"*\"*i)\n",
    "    else:\n",
    "        print(\"*\"+\" \"*(i-2)+\"*\")"
   ]
  },
  {
   "cell_type": "code",
   "execution_count": 10,
   "id": "48ea972a",
   "metadata": {},
   "outputs": [
    {
     "name": "stdout",
     "output_type": "stream",
     "text": [
      "     *\n",
      "    ***\n",
      "   *****\n",
      "  *******\n",
      " *********\n",
      "  *******\n",
      "   *****\n",
      "    ***\n",
      "     *\n"
     ]
    }
   ],
   "source": [
    "# 2.3 Diamond Pattern\n",
    "#      *\n",
    "#     ***\n",
    "#    *****\n",
    "#   *******\n",
    "#  *********\n",
    "#   *******\n",
    "#    *****\n",
    "#     ***\n",
    "#      *\n",
    "\n",
    "n=5\n",
    "for i in range(1,n+1):\n",
    "    print(\" \"*(n-i),\"*\"*(2*i-1))\n",
    "for i in range(n-1,0,-1):\n",
    "    print(\" \"*(n-i),\"*\"*(2*i-1))"
   ]
  },
  {
   "cell_type": "code",
   "execution_count": 11,
   "id": "49678c3f",
   "metadata": {},
   "outputs": [
    {
     "name": "stdout",
     "output_type": "stream",
     "text": [
      "     * \n",
      "    * * \n",
      "   * * * \n",
      "  * * * * \n",
      " * * * * * \n",
      "  * * * * \n",
      "   * * * \n",
      "    * * \n",
      "     * \n"
     ]
    }
   ],
   "source": [
    "# 2.4 Diamond pattern 2\n",
    "#      * \n",
    "#     * * \n",
    "#    * * * \n",
    "#   * * * * \n",
    "#  * * * * * \n",
    "#   * * * * \n",
    "#    * * * \n",
    "#     * * \n",
    "#      * \n",
    "\n",
    "\n",
    "n=5\n",
    "for i in range(1,n+1):\n",
    "    print(\" \"*(num-i),\"* \"*i)\n",
    "for i in range(num-1,0,-1):\n",
    "    print(\" \"*(num-i),\"* \"*i)"
   ]
  },
  {
   "cell_type": "code",
   "execution_count": 12,
   "id": "0a9237e6",
   "metadata": {},
   "outputs": [],
   "source": []
  },
  {
   "cell_type": "code",
   "execution_count": null,
   "id": "de0072d2",
   "metadata": {},
   "outputs": [],
   "source": []
  },
  {
   "cell_type": "code",
   "execution_count": null,
   "id": "8c737e62",
   "metadata": {},
   "outputs": [],
   "source": []
  }
 ],
 "metadata": {
  "kernelspec": {
   "display_name": "Python 3 (ipykernel)",
   "language": "python",
   "name": "python3"
  },
  "language_info": {
   "codemirror_mode": {
    "name": "ipython",
    "version": 3
   },
   "file_extension": ".py",
   "mimetype": "text/x-python",
   "name": "python",
   "nbconvert_exporter": "python",
   "pygments_lexer": "ipython3",
   "version": "3.9.12"
  }
 },
 "nbformat": 4,
 "nbformat_minor": 5
}
